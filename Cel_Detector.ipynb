{
 "cells": [
  {
   "cell_type": "markdown",
   "metadata": {},
   "source": [
    "Detector de Celulas"
   ]
  },
  {
   "cell_type": "code",
   "execution_count": 36,
   "metadata": {},
   "outputs": [],
   "source": [
    "#Importar paquete de datos\n",
    "\n",
    "import os\n",
    "import json\n",
    "import xml.etree.cElementTree as ET\n"
   ]
  },
  {
   "cell_type": "markdown",
   "metadata": {},
   "source": [
    "Colocar la carpeta malara-bb junto al código."
   ]
  },
  {
   "cell_type": "code",
   "execution_count": 54,
   "metadata": {},
   "outputs": [
    {
     "name": "stdout",
     "output_type": "stream",
     "text": [
      "Successfully created the directory /home/dlsaavedra/Desktop/Rentadrone.cl-ai-test/malaria-bounding-boxes/malaria/anns \n",
      "Creación XML Lista\n"
     ]
    }
   ],
   "source": [
    "# leer base de datos (test) y transformar a tipo xml\n",
    "path_dataset = os.getcwd() +'/malaria-bounding-boxes/malaria'\n",
    "path_anns = path_dataset + '/anns'\n",
    "path_images = path_dataset + '/images'\n",
    "\n",
    "\n",
    "try:\n",
    "    os.mkdir(path_anns)\n",
    "except OSError:\n",
    "    print (\"Creation of the directory %s failed\" % path_anns)\n",
    "else:\n",
    "    print (\"Successfully created the directory %s \" % path_anns)\n",
    "\n",
    "for type_data in ['test', 'training']:\n",
    "    \n",
    "    with open(path_dataset + '/' + type_data +'.json') as json_file:\n",
    "        data = json.load(json_file)\n",
    "        \n",
    "    list_name = [] #Guarda los nombres de las imagenes\n",
    "    #\n",
    "    for image_data in data:\n",
    "\n",
    "        list_name.append(image_data['image']['pathname'].split('/')[-1].split('.')[0])\n",
    "        root = ET.Element(\"annotation\")\n",
    "        ET.SubElement(root, \"folder\").text = 'images'\n",
    "        ET.SubElement(root, \"filename\").text = image_data['image']['pathname'].split('/')[-1]\n",
    "        ET.SubElement(root, \"path\").text = path_dataset + image_data['image']['pathname']\n",
    "        source = ET.SubElement(root, \"source\")\n",
    "        ET.SubElement(source, \"database\").text = 'Malaria'\n",
    "        size = ET.SubElement(root, \"size\")\n",
    "        ET.SubElement(size, \"width\").text = str(image_data['image']['shape']['c'])\n",
    "        ET.SubElement(size, \"height\").text = str(image_data['image']['shape']['r'])\n",
    "        ET.SubElement(size, \"depth\").text = str(image_data['image']['shape']['channels'])\n",
    "        ET.SubElement(root, \"segmented\").text = '0'\n",
    "\n",
    "        for box in image_data['objects']:\n",
    "\n",
    "            obj = ET.SubElement(root, \"object\")\n",
    "            ET.SubElement(obj, \"name\").text = box['category']\n",
    "            ET.SubElement(obj, \"pose\").text = 'Unspecified'\n",
    "            ET.SubElement(obj, \"truncated\").text = str(0)\n",
    "            ET.SubElement(obj, \"difficult\").text = str(0)\n",
    "            bx = ET.SubElement(obj, \"bndbox\")\n",
    "            ET.SubElement(bx, \"xmin\").text = str(box['bounding_box']['minimum']['c'])\n",
    "            ET.SubElement(bx, \"ymin\").text = str(box['bounding_box']['minimum']['r'])\n",
    "            ET.SubElement(bx, \"xmax\").text = str(box['bounding_box']['maximum']['c'])\n",
    "            ET.SubElement(bx, \"ymax\").text = str(box['bounding_box']['maximum']['r'])\n",
    "\n",
    "        tree = ET.ElementTree(root)\n",
    "        #print(image_data['image']['pathname'].split('/')[-1].split('.')[0])\n",
    "        tree.write(path_anns + '/' + image_data['image']['pathname'].split('/')[-1].split('.')[0] + '.xml')\n",
    "    \n",
    "    \n",
    "    f= open(path_dataset + '/' + type_data+\".txt\",\"w+\")\n",
    "    for name in list_name:\n",
    "        f.write(\"%s\\n\" % (name))\n",
    "    f.close()\n",
    "print('Creación XML Lista')"
   ]
  },
  {
   "cell_type": "code",
   "execution_count": 18,
   "metadata": {},
   "outputs": [
    {
     "data": {
      "text/plain": [
       "'/home/dlsaavedra/Desktop/Rentadrone.cl-ai-test'"
      ]
     },
     "execution_count": 18,
     "metadata": {},
     "output_type": "execute_result"
    }
   ],
   "source": [
    "os.getcwd()\n"
   ]
  },
  {
   "cell_type": "code",
   "execution_count": 26,
   "metadata": {},
   "outputs": [
    {
     "data": {
      "text/plain": [
       "{'bounding_box': {'minimum': {'r': 576, 'c': 1744},\n",
       "  'maximum': {'r': 708, 'c': 1883}},\n",
       " 'category': 'red blood cell'}"
      ]
     },
     "execution_count": 26,
     "metadata": {},
     "output_type": "execute_result"
    }
   ],
   "source": [
    "\n",
    "\n"
   ]
  },
  {
   "cell_type": "code",
   "execution_count": 31,
   "metadata": {},
   "outputs": [
    {
     "data": {
      "text/plain": [
       "'41be1bd3-0d31-4881-bf1f-3ccdfa21ff12.jpg'"
      ]
     },
     "execution_count": 31,
     "metadata": {},
     "output_type": "execute_result"
    }
   ],
   "source": []
  },
  {
   "cell_type": "markdown",
   "metadata": {},
   "source": [
    "Cargar el modelo ssd7 \n",
    "(https://github.com/pierluigiferrari/ssd_keras#how-to-fine-tune-one-of-the-trained-models-on-your-own-dataset)"
   ]
  },
  {
   "cell_type": "code",
   "execution_count": 38,
   "metadata": {},
   "outputs": [
    {
     "data": {
      "text/plain": [
       "'41be1bd3-0d31-4881-bf1f-3ccdfa21ff12'"
      ]
     },
     "execution_count": 38,
     "metadata": {},
     "output_type": "execute_result"
    }
   ],
   "source": []
  },
  {
   "cell_type": "code",
   "execution_count": 46,
   "metadata": {},
   "outputs": [
    {
     "data": {
      "text/plain": [
       "'/home/dlsaavedra/Desktop/Rentadrone.cl-ai-test/malaria-bounding-boxes/malaria/anns/41be1bd3-0d31-4881-bf1f-3ccdfa21ff12.xml'"
      ]
     },
     "execution_count": 46,
     "metadata": {},
     "output_type": "execute_result"
    }
   ],
   "source": []
  },
  {
   "cell_type": "code",
   "execution_count": null,
   "metadata": {},
   "outputs": [],
   "source": []
  },
  {
   "cell_type": "code",
   "execution_count": null,
   "metadata": {},
   "outputs": [],
   "source": []
  }
 ],
 "metadata": {
  "kernelspec": {
   "display_name": "Python 3",
   "language": "python",
   "name": "python3"
  },
  "language_info": {
   "codemirror_mode": {
    "name": "ipython",
    "version": 3
   },
   "file_extension": ".py",
   "mimetype": "text/x-python",
   "name": "python",
   "nbconvert_exporter": "python",
   "pygments_lexer": "ipython3",
   "version": "3.6.8"
  }
 },
 "nbformat": 4,
 "nbformat_minor": 2
}
